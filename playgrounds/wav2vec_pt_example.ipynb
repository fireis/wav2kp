{
 "metadata": {
  "language_info": {
   "codemirror_mode": {
    "name": "ipython",
    "version": 3
   },
   "file_extension": ".py",
   "mimetype": "text/x-python",
   "name": "python",
   "nbconvert_exporter": "python",
   "pygments_lexer": "ipython3",
   "version": "3.7.10-final"
  },
  "orig_nbformat": 2,
  "kernelspec": {
   "name": "python3710jvsc74a57bd08fd6de9d0bfe166eadfd2b806920a886e6c2c286fb4708dbd1d86a030e84ebcf",
   "display_name": "Python 3.7.10 64-bit ('wav2kp': conda)"
  }
 },
 "nbformat": 4,
 "nbformat_minor": 2,
 "cells": [
  {
   "cell_type": "code",
   "execution_count": 16,
   "metadata": {},
   "outputs": [],
   "source": [
    "import torchaudio\n",
    "from datasets import load_dataset, load_metric\n",
    "from transformers import (\n",
    "    Wav2Vec2ForCTC,\n",
    "    Wav2Vec2Processor,\n",
    ")\n",
    "import torch\n",
    "import re\n",
    "import sys\n",
    "\n",
    "model_name = \"facebook/wav2vec2-large-xlsr-53-portuguese\"\n",
    "device = \"cuda\"\n",
    "chars_to_ignore_regex = '[\\,\\?\\.\\!\\-\\;\\:\\\"]'  # noqa: W605"
   ]
  },
  {
   "cell_type": "code",
   "execution_count": 17,
   "metadata": {},
   "outputs": [],
   "source": [
    "model = Wav2Vec2ForCTC.from_pretrained(model_name).to(device)\n",
    "processor = Wav2Vec2Processor.from_pretrained(model_name)"
   ]
  },
  {
   "cell_type": "code",
   "execution_count": 18,
   "metadata": {},
   "outputs": [],
   "source": [
    "# opening a single file to test\n",
    "from scipy.io import wavfile\n",
    "samplerate, data = wavfile.read('../raw_videos/Em10_Fala1_CarolinaHolly/audio/Em10_Fala1_CarolinaHolly.wav')"
   ]
  },
  {
   "cell_type": "code",
   "execution_count": 19,
   "metadata": {},
   "outputs": [],
   "source": [
    "features = processor(data, sampling_rate=samplerate, padding=True, return_tensors=\"pt\")\n",
    "input_values = features.input_values.to(device)\n",
    "attention_mask = features.attention_mask.to(device)\n",
    "with torch.no_grad():\n",
    "    logits = model(input_values, attention_mask=attention_mask).logits\n",
    "pred_ids = torch.argmax(logits, dim=-1)\n",
    "predicted = processor.batch_decode(pred_ids)\n"
   ]
  },
  {
   "cell_type": "code",
   "execution_count": 20,
   "metadata": {},
   "outputs": [
    {
     "output_type": "execute_result",
     "data": {
      "text/plain": [
       "['filha quando olhe para você e vejá essa fagula de vida que brilha nos seus olhos juro que me sinto agraciada por um milagre nem meus sonhos eu poderia imaginar que você seria tão linda e nem que eu me apaixonaria tão perdidamente por um ser tão pequenino']"
      ]
     },
     "metadata": {},
     "execution_count": 20
    }
   ],
   "source": [
    "predicted"
   ]
  },
  {
   "cell_type": "code",
   "execution_count": 21,
   "metadata": {},
   "outputs": [
    {
     "output_type": "execute_result",
     "data": {
      "text/plain": [
       "torch.Size([1, 1210])"
      ]
     },
     "metadata": {},
     "execution_count": 21
    }
   ],
   "source": [
    "pred_ids.shape"
   ]
  },
  {
   "cell_type": "code",
   "execution_count": 23,
   "metadata": {},
   "outputs": [
    {
     "output_type": "stream",
     "name": "stderr",
     "text": [
      "C:\\Users\\Filipe\\.conda\\envs\\wav2kp\\lib\\site-packages\\transformers\\models\\wav2vec2\\tokenization_wav2vec2.py:358: FutureWarning: The class `Wav2Vec2Tokenizer` is deprecated and will be removed in version 5 of Transformers. Please use `Wav2Vec2Processor` or `Wav2Vec2CTCTokenizer` instead.\n",
      "  FutureWarning,\n",
      "Some weights of Wav2Vec2ForCTC were not initialized from the model checkpoint at facebook/wav2vec2-base-960h and are newly initialized: ['wav2vec2.masked_spec_embed']\n",
      "You should probably TRAIN this model on a down-stream task to be able to use it for predictions and inference.\n"
     ]
    }
   ],
   "source": [
    "from transformers import Wav2Vec2Tokenizer, Wav2Vec2ForCTC\n",
    "from datasets import load_dataset\n",
    "import soundfile as sf\n",
    "import torch\n",
    "\n",
    "# load model and tokenizer\n",
    "tokenizer = Wav2Vec2Tokenizer.from_pretrained(\"facebook/wav2vec2-base-960h\")\n",
    "model = Wav2Vec2ForCTC.from_pretrained(\"facebook/wav2vec2-base-960h\")\n",
    "\n",
    "# define function to read in sound file\n",
    "def map_to_array(batch):\n",
    "    speech, _ = sf.read(batch[\"file\"])\n",
    "    batch[\"speech\"] = speech\n",
    "    return batch\n",
    "\n",
    "# tokenize\n",
    "input_values = tokenizer(data, return_tensors=\"pt\", padding=\"longest\").input_values  # Batch size 1\n",
    "\n",
    "# retrieve logits\n",
    "logits = model(input_values).logits\n",
    "\n",
    "# take argmax and decode\n",
    "predicted_ids = torch.argmax(logits, dim=-1)\n",
    "transcription = tokenizer.batch_decode(predicted_ids)"
   ]
  },
  {
   "cell_type": "code",
   "execution_count": 24,
   "metadata": {},
   "outputs": [
    {
     "output_type": "execute_result",
     "data": {
      "text/plain": [
       "[\"PHILEA FON DO I DI PRAVO SEY VIJO SAFA GUDEGI VIDAKI BRILLIAN OSOZORDIOS JURUKI MESINTAGRACIADA PORUMILMAGRI NAME YOU SONOZUPO THE DAMAGINACI WAS A CIDIA DON'T LINGER IN NAME CAME YA PASSIONED IDEA DON'T PERIJUDAM ANCE BRU SEI DON'T PEKIN INN\"]"
      ]
     },
     "metadata": {},
     "execution_count": 24
    }
   ],
   "source": [
    "transcription"
   ]
  },
  {
   "cell_type": "code",
   "execution_count": null,
   "metadata": {},
   "outputs": [],
   "source": []
  }
 ]
}