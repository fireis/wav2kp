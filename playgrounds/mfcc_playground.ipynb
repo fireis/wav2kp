{
 "metadata": {
  "language_info": {
   "codemirror_mode": {
    "name": "ipython",
    "version": 3
   },
   "file_extension": ".py",
   "mimetype": "text/x-python",
   "name": "python",
   "nbconvert_exporter": "python",
   "pygments_lexer": "ipython3",
   "version": "3.6.13-final"
  },
  "orig_nbformat": 2,
  "kernelspec": {
   "name": "python3",
   "display_name": "Python 3.6.13 64-bit ('fsdl': conda)",
   "metadata": {
    "interpreter": {
     "hash": "d58f0f288481889f656a0800792a09e7eebe77c53203d07be68ed26f1d667241"
    }
   }
  }
 },
 "nbformat": 4,
 "nbformat_minor": 2,
 "cells": [
  {
   "cell_type": "code",
   "execution_count": 1,
   "metadata": {},
   "outputs": [
    {
     "output_type": "stream",
     "name": "stdout",
     "text": [
      "Collecting package metadata (current_repodata.json): done\n",
      "Solving environment: done\n",
      "\n",
      "\n",
      "==> WARNING: A newer version of conda exists. <==\n",
      "  current version: 4.8.5\n",
      "  latest version: 4.10.1\n",
      "\n",
      "Please update conda by running\n",
      "\n",
      "    $ conda update -n base -c defaults conda\n",
      "\n",
      "\n",
      "\n",
      "## Package Plan ##\n",
      "\n",
      "  environment location: /Users/fireis/miniconda3/envs/fsdl\n",
      "\n",
      "  added / updated specs:\n",
      "    - librosa\n",
      "\n",
      "\n",
      "The following packages will be downloaded:\n",
      "\n",
      "    package                    |            build\n",
      "    ---------------------------|-----------------\n",
      "    audioread-2.1.9            |   py36h79c6626_0          32 KB  conda-forge\n",
      "    bzip2-1.0.8                |       hc929b4f_4         155 KB  conda-forge\n",
      "    ca-certificates-2020.12.5  |       h033912b_0         138 KB  conda-forge\n",
      "    certifi-2020.12.5          |   py36h79c6626_1         143 KB  conda-forge\n",
      "    cycler-0.10.0              |             py_2           9 KB  conda-forge\n",
      "    decorator-5.0.7            |     pyhd8ed1ab_0          11 KB  conda-forge\n",
      "    ffmpeg-4.0                 |       h01ea3c9_0        21.8 MB\n",
      "    freetype-2.10.4            |       h4cff582_1         890 KB  conda-forge\n",
      "    kiwisolver-1.3.1           |   py36h23ab428_0          53 KB\n",
      "    libgfortran-3.0.1          |                0         495 KB  conda-forge\n",
      "    libiconv-1.16              |       haf1e3a3_0         1.3 MB  conda-forge\n",
      "    libllvm10-10.0.1           |       h009f743_3        20.8 MB  conda-forge\n",
      "    libopus-1.3.1              |       hc929b4f_1         273 KB  conda-forge\n",
      "    libpng-1.6.37              |       h7cec526_2         313 KB  conda-forge\n",
      "    librosa-0.6.1              |           py36_0         1.5 MB  conda-forge\n",
      "    libvpx-1.7.0               |       h378b8a2_0         1.3 MB\n",
      "    llvm-openmp-11.1.0         |       hda6cdc1_1         268 KB  conda-forge\n",
      "    llvmlite-0.34.0            |   py36h739e7dc_4         247 KB\n",
      "    matplotlib-3.2.2           |                1           6 KB  conda-forge\n",
      "    matplotlib-base-3.2.2      |   py36h83d3ec1_1         7.1 MB  conda-forge\n",
      "    numba-0.51.2               |   py36h959d312_1         3.1 MB\n",
      "    openssl-1.1.1k             |       h0d85af4_0         1.9 MB  conda-forge\n",
      "    python-dateutil-2.8.1      |             py_0         220 KB  conda-forge\n",
      "    resampy-0.2.2              |             py_0         332 KB  conda-forge\n",
      "    scikit-learn-0.24.1        |   py36hb2f4e1b_0         4.8 MB\n",
      "    scipy-1.5.2                |   py36h912ce22_0        13.4 MB\n",
      "    threadpoolctl-2.1.0        |     pyh5ca1d4c_0          15 KB  conda-forge\n",
      "    tornado-6.1                |   py36h20b66c6_1         643 KB  conda-forge\n",
      "    ------------------------------------------------------------\n",
      "                                           Total:        81.1 MB\n",
      "\n",
      "The following NEW packages will be INSTALLED:\n",
      "\n",
      "  audioread          conda-forge/osx-64::audioread-2.1.9-py36h79c6626_0\n",
      "  bzip2              conda-forge/osx-64::bzip2-1.0.8-hc929b4f_4\n",
      "  cycler             conda-forge/noarch::cycler-0.10.0-py_2\n",
      "  decorator          conda-forge/noarch::decorator-5.0.7-pyhd8ed1ab_0\n",
      "  ffmpeg             pkgs/main/osx-64::ffmpeg-4.0-h01ea3c9_0\n",
      "  freetype           conda-forge/osx-64::freetype-2.10.4-h4cff582_1\n",
      "  kiwisolver         pkgs/main/osx-64::kiwisolver-1.3.1-py36h23ab428_0\n",
      "  libgfortran        conda-forge/osx-64::libgfortran-3.0.1-0\n",
      "  libiconv           conda-forge/osx-64::libiconv-1.16-haf1e3a3_0\n",
      "  libllvm10          conda-forge/osx-64::libllvm10-10.0.1-h009f743_3\n",
      "  libopus            conda-forge/osx-64::libopus-1.3.1-hc929b4f_1\n",
      "  libpng             conda-forge/osx-64::libpng-1.6.37-h7cec526_2\n",
      "  librosa            conda-forge/osx-64::librosa-0.6.1-py36_0\n",
      "  libvpx             pkgs/main/osx-64::libvpx-1.7.0-h378b8a2_0\n",
      "  llvm-openmp        conda-forge/osx-64::llvm-openmp-11.1.0-hda6cdc1_1\n",
      "  llvmlite           pkgs/main/osx-64::llvmlite-0.34.0-py36h739e7dc_4\n",
      "  matplotlib         conda-forge/osx-64::matplotlib-3.2.2-1\n",
      "  matplotlib-base    conda-forge/osx-64::matplotlib-base-3.2.2-py36h83d3ec1_1\n",
      "  numba              pkgs/main/osx-64::numba-0.51.2-py36h959d312_1\n",
      "  python-dateutil    conda-forge/noarch::python-dateutil-2.8.1-py_0\n",
      "  resampy            conda-forge/noarch::resampy-0.2.2-py_0\n",
      "  scikit-learn       pkgs/main/osx-64::scikit-learn-0.24.1-py36hb2f4e1b_0\n",
      "  scipy              pkgs/main/osx-64::scipy-1.5.2-py36h912ce22_0\n",
      "  threadpoolctl      conda-forge/noarch::threadpoolctl-2.1.0-pyh5ca1d4c_0\n",
      "  tornado            conda-forge/osx-64::tornado-6.1-py36h20b66c6_1\n",
      "\n",
      "The following packages will be UPDATED:\n",
      "\n",
      "  certifi            pkgs/main::certifi-2020.12.5-py36hecd~ --> conda-forge::certifi-2020.12.5-py36h79c6626_1\n",
      "\n",
      "The following packages will be SUPERSEDED by a higher-priority channel:\n",
      "\n",
      "  ca-certificates    pkgs/main::ca-certificates-2021.1.19-~ --> conda-forge::ca-certificates-2020.12.5-h033912b_0\n",
      "  openssl              pkgs/main::openssl-1.1.1k-h9ed2024_0 --> conda-forge::openssl-1.1.1k-h0d85af4_0\n",
      "\n",
      "\n",
      "\n",
      "Downloading and Extracting Packages\n",
      "resampy-0.2.2        | 332 KB    | ##################################### | 100% \n",
      "python-dateutil-2.8. | 220 KB    | ##################################### | 100% \n",
      "numba-0.51.2         | 3.1 MB    | ##################################### | 100% \n",
      "audioread-2.1.9      | 32 KB     | ##################################### | 100% \n",
      "threadpoolctl-2.1.0  | 15 KB     | ##################################### | 100% \n",
      "decorator-5.0.7      | 11 KB     | ##################################### | 100% \n",
      "matplotlib-base-3.2. | 7.1 MB    | ##################################### | 100% \n",
      "openssl-1.1.1k       | 1.9 MB    | ##################################### | 100% \n",
      "libvpx-1.7.0         | 1.3 MB    | ##################################### | 100% \n",
      "freetype-2.10.4      | 890 KB    | ##################################### | 100% \n",
      "certifi-2020.12.5    | 143 KB    | ##################################### | 100% \n",
      "libopus-1.3.1        | 273 KB    | ##################################### | 100% \n",
      "tornado-6.1          | 643 KB    | ##################################### | 100% \n",
      "scipy-1.5.2          | 13.4 MB   | ##################################### | 100% \n",
      "libiconv-1.16        | 1.3 MB    | ##################################### | 100% \n",
      "matplotlib-3.2.2     | 6 KB      | ##################################### | 100% \n",
      "librosa-0.6.1        | 1.5 MB    | ##################################### | 100% \n",
      "libllvm10-10.0.1     | 20.8 MB   | ##################################### | 100% \n",
      "llvm-openmp-11.1.0   | 268 KB    | ##################################### | 100% \n",
      "libpng-1.6.37        | 313 KB    | ##################################### | 100% \n",
      "scikit-learn-0.24.1  | 4.8 MB    | ##################################### | 100% \n",
      "bzip2-1.0.8          | 155 KB    | ##################################### | 100% \n",
      "libgfortran-3.0.1    | 495 KB    | ##################################### | 100% \n",
      "ca-certificates-2020 | 138 KB    | ##################################### | 100% \n",
      "ffmpeg-4.0           | 21.8 MB   | ##################################### | 100% \n",
      "llvmlite-0.34.0      | 247 KB    | ##################################### | 100% \n",
      "kiwisolver-1.3.1     | 53 KB     | ##################################### | 100% \n",
      "cycler-0.10.0        | 9 KB      | ##################################### | 100% \n",
      "Preparing transaction: done\n",
      "Verifying transaction: done\n",
      "Executing transaction: done\n"
     ]
    }
   ],
   "source": [
    "#!conda install -c conda-forge librosa --y\n"
   ]
  },
  {
   "cell_type": "code",
   "execution_count": 1,
   "metadata": {},
   "outputs": [],
   "source": [
    "import librosa"
   ]
  },
  {
   "cell_type": "code",
   "execution_count": 7,
   "metadata": {},
   "outputs": [],
   "source": [
    "aud_file, sr = librosa.load(\"Em10_Fala1_CarolinaHolly.wav\", sr=16000)"
   ]
  },
  {
   "cell_type": "code",
   "execution_count": 8,
   "metadata": {},
   "outputs": [
    {
     "output_type": "execute_result",
     "data": {
      "text/plain": [
       "array([0., 0., 0., ..., 0., 0., 0.], dtype=float32)"
      ]
     },
     "metadata": {},
     "execution_count": 8
    }
   ],
   "source": [
    "aud_file"
   ]
  },
  {
   "cell_type": "code",
   "execution_count": 6,
   "metadata": {},
   "outputs": [
    {
     "output_type": "execute_result",
     "data": {
      "text/plain": [
       "22050"
      ]
     },
     "metadata": {},
     "execution_count": 6
    }
   ],
   "source": [
    "sr"
   ]
  },
  {
   "cell_type": "code",
   "execution_count": 9,
   "metadata": {},
   "outputs": [
    {
     "output_type": "execute_result",
     "data": {
      "text/plain": [
       "array([[-3.05207158e+02, -2.49994575e+02, -2.45228065e+02, ...,\n",
       "        -4.37284379e+02, -5.05477106e+02, -6.37520161e+02],\n",
       "       [ 4.71945531e+01,  4.56235752e+01,  4.80668662e+01, ...,\n",
       "         1.22838373e+02,  1.04064095e+02,  0.00000000e+00],\n",
       "       [-5.68877325e+01, -5.98807574e+01, -6.84961502e+01, ...,\n",
       "        -1.59758728e+01, -2.47440681e+00,  0.00000000e+00],\n",
       "       ...,\n",
       "       [-7.80326192e-01,  4.61904836e-01, -1.33378282e+00, ...,\n",
       "        -2.89451256e+00, -4.25442485e+00,  0.00000000e+00],\n",
       "       [-2.66449815e+00, -3.69499812e+00, -4.21597231e+00, ...,\n",
       "         1.52696193e+00,  7.56136169e-01,  0.00000000e+00],\n",
       "       [-2.31060282e+00, -2.75841073e-01,  1.90205392e+00, ...,\n",
       "        -3.75376676e+00, -1.00234920e-01,  0.00000000e+00]])"
      ]
     },
     "metadata": {},
     "execution_count": 9
    }
   ],
   "source": [
    "librosa.feature.mfcc(y=aud_file, sr=16000)"
   ]
  },
  {
   "cell_type": "code",
   "execution_count": null,
   "metadata": {},
   "outputs": [],
   "source": []
  }
 ]
}