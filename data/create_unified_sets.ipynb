{
 "metadata": {
  "language_info": {
   "codemirror_mode": {
    "name": "ipython",
    "version": 3
   },
   "file_extension": ".py",
   "mimetype": "text/x-python",
   "name": "python",
   "nbconvert_exporter": "python",
   "pygments_lexer": "ipython3",
   "version": "3.7.10-final"
  },
  "orig_nbformat": 2,
  "kernelspec": {
   "name": "python3710jvsc74a57bd08fd6de9d0bfe166eadfd2b806920a886e6c2c286fb4708dbd1d86a030e84ebcf",
   "display_name": "Python 3.7.10 64-bit ('wav2kp': conda)"
  }
 },
 "nbformat": 4,
 "nbformat_minor": 2,
 "cells": [
  {
   "cell_type": "code",
   "execution_count": 1,
   "metadata": {},
   "outputs": [
    {
     "output_type": "stream",
     "name": "stderr",
     "text": [
      "C:\\Users\\Filipe\\.conda\\envs\\wav2kp\\lib\\site-packages\\torchaudio\\extension\\extension.py:13: UserWarning: torchaudio C++ extension is not available.\n  warnings.warn('torchaudio C++ extension is not available.')\n"
     ]
    }
   ],
   "source": [
    "import torchaudio\n",
    "import pandas as pd\n",
    "import glob\n",
    "import numpy as np\n",
    "from tqdm import tqdm\n",
    "from torchaudio import transforms\n",
    "import torch\n",
    "from typing import Any, Callable, Dict, Sequence, Tuple, Union\n",
    "SequenceOrTensor = Union[Sequence, torch.Tensor]"
   ]
  },
  {
   "cell_type": "code",
   "execution_count": 1,
   "metadata": {},
   "outputs": [],
   "source": [
    "\n",
    "\n"
   ]
  },
  {
   "cell_type": "code",
   "execution_count": 2,
   "metadata": {},
   "outputs": [],
   "source": [
    "if __name__ == '__main__':\n",
    "    # TODO: MAKE THIS READ TEH PATH FROM ARGPARSE\n",
    "    file_path = os.path.abspath(\"\").replace(\"data\", \"docs\") + \"/train_val_test_dist.xlsx\"\n",
    "    train_test_dist = pd.read_excel(file_path)\n",
    "    "
   ]
  },
  {
   "cell_type": "code",
   "execution_count": 3,
   "metadata": {},
   "outputs": [],
   "source": [
    "train_files = train_test_dist[train_test_dist.set == \"Train\"].video.unique()\n",
    "test_files = train_test_dist[train_test_dist.set == \"Test\"].video.unique()\n",
    "val_files = train_test_dist[train_test_dist.set == \"Val\"].video.unique()"
   ]
  },
  {
   "cell_type": "code",
   "execution_count": 4,
   "metadata": {
    "tags": []
   },
   "outputs": [
    {
     "output_type": "stream",
     "name": "stderr",
     "text": [
      "100%|██████████| 80/80 [00:23<00:00,  3.35it/s]\n",
      "100%|██████████| 21/21 [00:06<00:00,  3.45it/s]\n",
      "100%|██████████| 21/21 [00:06<00:00,  3.48it/s]\n"
     ]
    }
   ],
   "source": [
    "def assemble_path(file_name):\n",
    "    file_path = os.path.abspath(\"\").replace(\"data\", \"raw_videos/\") + file_name + \"/\"\n",
    "    audio_file = file_path + \"audio/\" + file_name + \".wav\"\n",
    "    keypoints_folder = file_path + \"keypoints_reduced/\" \n",
    "\n",
    "    return audio_file, keypoints_folder\n",
    "\n",
    "def find_keypoints(keypoints_folder):\n",
    "    keypoints = []\n",
    "    # open the files while sorting as the order matters\n",
    "    frames_list = sorted(glob.glob(keypoints_folder + \"*.txt\"))\n",
    "    # read each txt with the samples\n",
    "    for frame in frames_list:\n",
    "        keypoints.append(read_keypoint_txt(frame))\n",
    "    \n",
    "    # transform to numpy array to make processing easier\n",
    "    keypoints = np.array(keypoints) \n",
    "\n",
    "    return keypoints\n",
    "\n",
    "def read_keypoint_txt(keypoints_folder):\n",
    "    keypoints = np.loadtxt(keypoints_folder, delimiter=\",\")\n",
    "    return keypoints\n",
    "\n",
    "def read_audio_file(path=\"\"):\n",
    "    \"\"\"\n",
    "    Reads the specifies file in path and returns it in Tensor format\n",
    "    \"\"\"\n",
    "    # fix to work on windows\n",
    "    path = path.replace(\"\\\\\", \"\\\\\")\n",
    "    return torchaudio.load(path)\n",
    "\n",
    "def extract_mfcc(audio_file_path):\n",
    "    audio, sr =  read_audio_file(audio_file_path)\n",
    "    mfcc = transforms.MFCC(sample_rate=sr, melkwargs={\"n_mels\": 40})\n",
    "    coefs = mfcc(audio)\n",
    "    return coefs\n",
    "\n",
    "def assemble_set(train_test_dist, set_name=\"Train\"):\n",
    "    file_names = train_test_dist[train_test_dist.set == set_name].video.unique()\n",
    "    audio_files = []\n",
    "    keypoints_list = []\n",
    "    ds = []\n",
    "    file_names = tqdm(file_names)\n",
    "    for file_name in file_names:\n",
    "        # get  the files to process\n",
    "        audio_file_path, keypoints_folder = assemble_path(file_name)\n",
    "        # extract keypoints\n",
    "        keypoints = find_keypoints(keypoints_folder)\n",
    "        # extract mfccs\n",
    "        mfccs = extract_mfcc(audio_file_path)\n",
    "        # append to the dataset list\n",
    "        ds.append([mfccs, keypoints] )\n",
    "    return np.array(ds, dtype=object)\n",
    "\n",
    "for set_dist in [\"Train\", \"Val\", \"Test\"]:\n",
    "    dataset_folder = os.path.abspath(\"\").replace(\"data\", \"dataset/\")\n",
    "\n",
    "    ds = assemble_set(train_test_dist, set_name=set_dist)\n",
    "    np.save(f\"{dataset_folder}{set_dist}\", ds, allow_pickle=True)\n",
    "    \n",
    "\n"
   ]
  },
  {
   "cell_type": "code",
   "execution_count": 72,
   "metadata": {},
   "outputs": [
    {
     "output_type": "execute_result",
     "data": {
      "text/plain": [
       "torch.Size([1, 40, 2869])"
      ]
     },
     "metadata": {},
     "execution_count": 72
    }
   ],
   "source": []
  },
  {
   "cell_type": "code",
   "execution_count": 5,
   "metadata": {},
   "outputs": [
    {
     "output_type": "execute_result",
     "data": {
      "text/plain": [
       "array([tensor([[[-3.5612e+02, -3.5448e+02, -2.9898e+02,  ..., -3.5612e+02,\n",
       "          -3.5612e+02, -3.5612e+02],\n",
       "         [ 3.8560e-05,  1.4992e+00,  3.1084e+01,  ...,  3.8560e-05,\n",
       "           3.8560e-05,  3.8560e-05],\n",
       "         [-1.8065e-05, -3.5047e-01, -1.9789e+01,  ..., -1.8065e-05,\n",
       "          -1.8065e-05, -1.8065e-05],\n",
       "         ...,\n",
       "         [ 6.1035e-05, -1.0891e-01,  1.3865e+00,  ...,  6.1035e-05,\n",
       "           6.1035e-05,  6.1035e-05],\n",
       "         [ 1.7593e-05,  2.6186e-02, -3.1844e+00,  ...,  1.7593e-05,\n",
       "           1.7593e-05,  1.7593e-05],\n",
       "         [ 1.5259e-04,  6.3477e-02,  1.4752e+00,  ...,  1.5259e-04,\n",
       "           1.5259e-04,  1.5259e-04]]]),\n",
       "       array([[[ 67., 130.],\n",
       "        [ 67., 145.],\n",
       "        [ 71., 158.],\n",
       "        ...,\n",
       "        [135., 181.],\n",
       "        [129., 181.],\n",
       "        [123., 181.]],\n",
       "\n",
       "       [[ 67., 130.],\n",
       "        [ 69., 145.],\n",
       "        [ 70., 158.],\n",
       "        ...,\n",
       "        [135., 181.],\n",
       "        [129., 181.],\n",
       "        [123., 179.]],\n",
       "\n",
       "       [[ 66., 130.],\n",
       "        [ 66., 145.],\n",
       "        [ 69., 158.],\n",
       "        ...,\n",
       "        [134., 181.],\n",
       "        [128., 181.],\n",
       "        [122., 181.]],\n",
       "\n",
       "       ...,\n",
       "\n",
       "       [[ 65., 130.],\n",
       "        [ 67., 145.],\n",
       "        [ 69., 158.],\n",
       "        ...,\n",
       "        [135., 181.],\n",
       "        [128., 179.],\n",
       "        [122., 179.]],\n",
       "\n",
       "       [[ 65., 130.],\n",
       "        [ 67., 145.],\n",
       "        [ 69., 161.],\n",
       "        ...,\n",
       "        [135., 180.],\n",
       "        [130., 180.],\n",
       "        [122., 180.]],\n",
       "\n",
       "       [[ 65., 132.],\n",
       "        [ 67., 147.],\n",
       "        [ 68., 160.],\n",
       "        ...,\n",
       "        [135., 179.],\n",
       "        [127., 179.],\n",
       "        [122., 179.]]])], dtype=object)"
      ]
     },
     "metadata": {},
     "execution_count": 5
    }
   ],
   "source": [
    "np.load(f\"{dataset_folder}{set_dist}.npy\", allow_pickle=True)[0]"
   ]
  },
  {
   "cell_type": "code",
   "execution_count": 6,
   "metadata": {},
   "outputs": [],
   "source": [
    "def scale_keypoints(keypoints, max_size=(256, 256)):\n",
    "    # divide all x and y coordinates by the corresponding axis max\n",
    "    # this is defined on the image processing stage\n",
    "    keypoints[:, :, 0] = keypoints[:, :, 0]/max_size[0]\n",
    "    keypoints[:, :, 1] = keypoints[:, :, 1]/max_size[1]\n",
    "    \n",
    "    return keypoints"
   ]
  },
  {
   "cell_type": "code",
   "execution_count": 7,
   "metadata": {},
   "outputs": [],
   "source": [
    "import torch\n",
    "\n",
    "\n",
    "class BaseDataset(torch.utils.data.Dataset):\n",
    "    \"\"\"\n",
    "    Base Dataset class that simply processes data and targets through optional transforms.\n",
    "\n",
    "    Read more: https://pytorch.org/docs/stable/data.html#torch.utils.data.Dataset\n",
    "\n",
    "    Parameters\n",
    "    ----------\n",
    "    data\n",
    "        commonly these are torch tensors, numpy arrays, or PIL Images\n",
    "    targets\n",
    "        commonly these are torch tensors or numpy arrays\n",
    "    transform\n",
    "        function that takes a datum and returns the same\n",
    "    target_transform\n",
    "        function that takes a target and returns the same\n",
    "    \"\"\"\n",
    "\n",
    "    def __init__(\n",
    "        self,\n",
    "        data: SequenceOrTensor,\n",
    "        targets: SequenceOrTensor,\n",
    "        transform: Callable = None,\n",
    "        target_transform: Callable = None,\n",
    "        \n",
    "    ) -> None:\n",
    "        if len(data) != len(targets):\n",
    "            raise ValueError(\"Data and targets must be of equal length\")\n",
    "        super().__init__()\n",
    "        self.data = data\n",
    "        self.targets = targets\n",
    "        self.transform = transform\n",
    "        self.target_transform = target_transform\n",
    "\n",
    "\n",
    "    def __len__(self) -> int:\n",
    "        \"\"\"Return length of the dataset.\"\"\"\n",
    "        return len(self.data)\n",
    "\n",
    "    def __getitem__(self, index: int) -> Tuple[Any, Any]:\n",
    "        \"\"\"\n",
    "        Return a datum and its target, after processing by transforms.\n",
    "\n",
    "        Parameters\n",
    "        ----------\n",
    "        index\n",
    "\n",
    "        Returns\n",
    "        -------\n",
    "        (datum, target)\n",
    "        \"\"\"\n",
    "        datum, target = self.data[index], self.targets[index]\n",
    "        \n",
    "        if self.transform is not None:\n",
    "            datum = self.transform(datum)\n",
    "\n",
    "        if self.target_transform is not None:\n",
    "            target = self.target_transform(target)\n",
    "\n",
    "        return datum, target\n",
    "\n"
   ]
  },
  {
   "cell_type": "code",
   "execution_count": 8,
   "metadata": {},
   "outputs": [],
   "source": [
    "dataset = np.load(f\"{dataset_folder}{set_dist}.npy\", allow_pickle=True)\n",
    "data = dataset[:, 0]\n",
    "targets = dataset[:, 1]\n",
    "train_set  = BaseDataset(data=data, targets=targets, target_transform=scale_keypoints)"
   ]
  },
  {
   "cell_type": "code",
   "execution_count": 9,
   "metadata": {},
   "outputs": [
    {
     "output_type": "execute_result",
     "data": {
      "text/plain": [
       "array([[[0.26171875, 0.5078125 ],\n",
       "        [0.26171875, 0.56640625],\n",
       "        [0.27734375, 0.6171875 ],\n",
       "        ...,\n",
       "        [0.52734375, 0.70703125],\n",
       "        [0.50390625, 0.70703125],\n",
       "        [0.48046875, 0.70703125]],\n",
       "\n",
       "       [[0.26171875, 0.5078125 ],\n",
       "        [0.26953125, 0.56640625],\n",
       "        [0.2734375 , 0.6171875 ],\n",
       "        ...,\n",
       "        [0.52734375, 0.70703125],\n",
       "        [0.50390625, 0.70703125],\n",
       "        [0.48046875, 0.69921875]],\n",
       "\n",
       "       [[0.2578125 , 0.5078125 ],\n",
       "        [0.2578125 , 0.56640625],\n",
       "        [0.26953125, 0.6171875 ],\n",
       "        ...,\n",
       "        [0.5234375 , 0.70703125],\n",
       "        [0.5       , 0.70703125],\n",
       "        [0.4765625 , 0.70703125]],\n",
       "\n",
       "       ...,\n",
       "\n",
       "       [[0.25390625, 0.5078125 ],\n",
       "        [0.26171875, 0.56640625],\n",
       "        [0.26953125, 0.6171875 ],\n",
       "        ...,\n",
       "        [0.52734375, 0.70703125],\n",
       "        [0.5       , 0.69921875],\n",
       "        [0.4765625 , 0.69921875]],\n",
       "\n",
       "       [[0.25390625, 0.5078125 ],\n",
       "        [0.26171875, 0.56640625],\n",
       "        [0.26953125, 0.62890625],\n",
       "        ...,\n",
       "        [0.52734375, 0.703125  ],\n",
       "        [0.5078125 , 0.703125  ],\n",
       "        [0.4765625 , 0.703125  ]],\n",
       "\n",
       "       [[0.25390625, 0.515625  ],\n",
       "        [0.26171875, 0.57421875],\n",
       "        [0.265625  , 0.625     ],\n",
       "        ...,\n",
       "        [0.52734375, 0.69921875],\n",
       "        [0.49609375, 0.69921875],\n",
       "        [0.4765625 , 0.69921875]]])"
      ]
     },
     "metadata": {},
     "execution_count": 9
    }
   ],
   "source": [
    "aud, kp = train_set[0]\n",
    "kp"
   ]
  },
  {
   "cell_type": "code",
   "execution_count": 10,
   "metadata": {},
   "outputs": [],
   "source": [
    "sample = targets[0]"
   ]
  },
  {
   "cell_type": "code",
   "execution_count": 11,
   "metadata": {},
   "outputs": [
    {
     "output_type": "execute_result",
     "data": {
      "text/plain": [
       "(261, 68)"
      ]
     },
     "metadata": {},
     "execution_count": 11
    }
   ],
   "source": [
    "sample[:,:, 1].shape"
   ]
  },
  {
   "cell_type": "code",
   "execution_count": null,
   "metadata": {},
   "outputs": [],
   "source": []
  },
  {
   "cell_type": "code",
   "execution_count": null,
   "metadata": {},
   "outputs": [],
   "source": []
  },
  {
   "cell_type": "code",
   "execution_count": null,
   "metadata": {},
   "outputs": [],
   "source": []
  }
 ]
}