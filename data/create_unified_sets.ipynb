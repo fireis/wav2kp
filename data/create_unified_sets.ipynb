{
 "metadata": {
  "language_info": {
   "codemirror_mode": {
    "name": "ipython",
    "version": 3
   },
   "file_extension": ".py",
   "mimetype": "text/x-python",
   "name": "python",
   "nbconvert_exporter": "python",
   "pygments_lexer": "ipython3",
   "version": "3.7.10-final"
  },
  "orig_nbformat": 2,
  "kernelspec": {
   "name": "python3710jvsc74a57bd08fd6de9d0bfe166eadfd2b806920a886e6c2c286fb4708dbd1d86a030e84ebcf",
   "display_name": "Python 3.7.10 64-bit ('wav2kp': conda)"
  }
 },
 "nbformat": 4,
 "nbformat_minor": 2,
 "cells": [
  {
   "cell_type": "code",
   "execution_count": 19,
   "metadata": {},
   "outputs": [],
   "source": [
    "import torchaudio\n",
    "import pandas as pd\n",
    "import glob\n",
    "\n"
   ]
  },
  {
   "cell_type": "code",
   "execution_count": 8,
   "metadata": {},
   "outputs": [],
   "source": [
    "def read_audio_file(path=\"\"):\n",
    "    \"\"\"\n",
    "    Reads the specifies file in path and returns it in Tensor format\n",
    "    \"\"\"\n",
    "    return torchaudio.load(path)\n",
    "\n"
   ]
  },
  {
   "cell_type": "code",
   "execution_count": 12,
   "metadata": {},
   "outputs": [],
   "source": [
    "if __name__ == '__main__':\n",
    "    # TODO: MAKE THIS READ TEH PATH FROM ARGPARSE\n",
    "    file_path = os.path.abspath(\"\").replace(\"data\", \"docs\") + \"/train_val_test_dist.xlsx\"\n",
    "    train_test_dist = pd.read_excel(file_path)\n",
    "    "
   ]
  },
  {
   "cell_type": "code",
   "execution_count": 17,
   "metadata": {},
   "outputs": [],
   "source": [
    "train_files = train_test_dist[train_test_dist.set == \"Train\"].video.unique()\n",
    "test_files = train_test_dist[train_test_dist.set == \"Test\"].video.unique()\n",
    "val_files = train_test_dist[train_test_dist.set == \"Val\"].video.unique()"
   ]
  },
  {
   "cell_type": "code",
   "execution_count": 27,
   "metadata": {
    "tags": []
   },
   "outputs": [],
   "source": [
    "def assemble_path(file_name):\n",
    "    file_path = os.path.abspath(\"\").replace(\"data\", \"raw_videos/\") + file_name + \"/\"\n",
    "    audio_file = file_path + \"audio/\" + file_name + \".wav\"\n",
    "    keypoints_folder = file_path + \"keypoints_reduced/\" \n",
    "\n",
    "    return audio_file, keypoints_folder\n",
    "\n",
    "def find_keypoints(keypoints_folder):\n",
    "    keypoints = []\n",
    "    frames_list = sorted(glob.glob(keypoints_folder + \"*.txt\"))\n",
    "    for frame in frames_list:\n",
    "        keypoints.append(frame)\n",
    "    return keypoints\n",
    "\n",
    "\n",
    "def assemble_set(train_test_dist, set_name=\"Train\"):\n",
    "    file_names = train_test_dist[train_test_dist.set == set_name].video.unique()\n",
    "    audio_files = []\n",
    "    keypoints = []\n",
    "    for file_name in file_names:\n",
    "        audio_file_path, keypoints_folder = assemble_path(file_name)\n",
    "        #audio_file = read_audio_file(audio_file_path)\n",
    "        audio_files.append(audio_file_path)\n",
    "        keypoints.append(find_keypoints(keypoints_folder))\n",
    "    return audio_files, keypoints\n",
    "        \n",
    "audio_files, keypoints = assemble_set(train_test_dist)\n"
   ]
  },
  {
   "cell_type": "code",
   "execution_count": 31,
   "metadata": {},
   "outputs": [
    {
     "output_type": "stream",
     "name": "stdout",
     "text": [
      "80 80\n"
     ]
    }
   ],
   "source": [
    "print(len(audio_files), len(keypoints))"
   ]
  },
  {
   "cell_type": "code",
   "execution_count": null,
   "metadata": {},
   "outputs": [],
   "source": []
  }
 ]
}